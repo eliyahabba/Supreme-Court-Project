{
 "cells": [
  {
   "cell_type": "code",
   "execution_count": null,
   "metadata": {},
   "outputs": [],
   "source": [
    "from bertopic import BERTopic\n",
    "from bertopic.vectorizers import ClassTfidfTransformer\n",
    "import pandas as pd\n",
    "import re\n",
    "import os"
   ]
  },
  {
   "cell_type": "markdown",
   "metadata": {},
   "source": [
    "## Get Data"
   ]
  },
  {
   "cell_type": "code",
   "execution_count": null,
   "metadata": {},
   "outputs": [],
   "source": [
    "# psak = r'פ\\s*ס\\s*ק\\s*-*\\s*ד\\s*י\\s*ן'\n",
    "psak = r'פ\\s*ס\\s*ק\\s*-*\\s*ד\\s*י\\s*ן\\s*\\n'\n",
    "def extract_middle_content(text):\n",
    "    if text is None:\n",
    "        return \"\"\n",
    "    try:\n",
    "        pattern = re.compile(fr'{psak}([\\s\\S]*)[\\s-]*ניתן[\\s-]*היום', re.DOTALL)\n",
    "        match = pattern.search(text)\n",
    "        if match:\n",
    "            extracted_text = match.group(1).strip()\n",
    "            extracted_percentage = len(extracted_text) / len(text) * 100\n",
    "            if extracted_percentage == 0:\n",
    "                return text\n",
    "            return extracted_text\n",
    "    except:\n",
    "        return text\n",
    "    \n",
    "    try:\n",
    "        # If the previous pattern fails, extract from the last 'פסק-דין' to the end\n",
    "        pattern = re.compile(fr'.*{psak}([\\s\\S]*)', re.DOTALL)\n",
    "        match = pattern.search(text)\n",
    "        if match:\n",
    "            extracted_text = match.group(1).strip()\n",
    "            extracted_percentage = len(extracted_text) / len(text) * 100\n",
    "            if extracted_percentage == 0:\n",
    "                return text\n",
    "            return extracted_text\n",
    "    except:\n",
    "        return text\n",
    "    \n",
    "    try:\n",
    "        # If there's no 'פסק-דין', extract from the beginning to 'ניתן היום'\n",
    "        pattern = re.compile(r'^([\\s\\S]*)(ניתן[\\s-]*היום)', re.DOTALL)\n",
    "        match = pattern.search(text)\n",
    "        if match:\n",
    "            extracted_text = match.group(1).strip()\n",
    "            extracted_percentage = len(extracted_text) / len(text) * 100\n",
    "            if extracted_percentage == 0:\n",
    "                return text\n",
    "            return extracted_text\n",
    "    except:\n",
    "        return text\n",
    "    \n",
    "    # If there's no 'פסק-דין', extract from the beginning\n",
    "    return text"
   ]
  },
  {
   "cell_type": "code",
   "execution_count": null,
   "metadata": {},
   "outputs": [],
   "source": [
    "def find_years(text):\n",
    "    # Regular expression patterns for different date formats\n",
    "    patterns = [\n",
    "        #         r'\\b(\\d{4})\\b',          # yyyy format\n",
    "        r'\\b\\d{1,2}/\\d{1,2}/(\\d{2}|\\d{4})\\b',\n",
    "        r'\\b\\d{1,2}\\.\\d{1,2}\\.(\\d{2}|\\d{4})\\b']\n",
    "    years = []\n",
    "    for pattern in patterns:\n",
    "        matches = re.findall(pattern, text)\n",
    "        for match in matches:\n",
    "            year = match\n",
    "            if len(year) == 2:\n",
    "                if 0 <= int(year) <= 23:\n",
    "                    year = '20' + year\n",
    "                else:\n",
    "                    year = '19' + year\n",
    "            years.append(year)\n",
    "\n",
    "    if not years:\n",
    "        matches = re.findall(r'\\b(\\d{4})\\b', text)\n",
    "        years.extend(matches)\n",
    "    return years\n",
    "\n",
    "\n",
    "def max_year(years):\n",
    "    years = [int(year) for year in years if year != '' and 1900 <= int(year) <= 2023]\n",
    "    if not years:\n",
    "        return '', 0\n",
    "    return str(max(years))\n",
    "\n",
    "\n",
    "def run_years(df):\n",
    "    df['years'] = df['text'].apply(find_years)\n",
    "    df['max_year'] = df.apply(\n",
    "        lambda row: max_year(row['years']), axis=1)\n",
    "    df.drop(columns=['years'], inplace=True)"
   ]
  },
  {
   "cell_type": "code",
   "execution_count": null,
   "metadata": {},
   "outputs": [],
   "source": [
    "directory_path = \"/mnt/local/mikehash/Data/Nevo/NevoVerdicts\"\n",
    "data = []\n",
    "\n",
    "for filename in os.listdir(directory_path):\n",
    "    file_path = os.path.join(directory_path, filename)\n",
    "    with open(file_path, 'r') as file:\n",
    "        try:\n",
    "            data.append(file.read())\n",
    "        except:\n",
    "            print(file_path)\n",
    "df = pd.DataFrame(data, columns=['text'])\n",
    "df['extracted_content'] = df['text'].apply(lambda x: extract_middle_content(x))\n",
    "run_years(df)"
   ]
  },
  {
   "cell_type": "code",
   "execution_count": null,
   "metadata": {},
   "outputs": [],
   "source": [
    "data = df['extracted_content'].values.tolist()"
   ]
  },
  {
   "cell_type": "markdown",
   "metadata": {},
   "source": [
    "## Topic Model"
   ]
  },
  {
   "cell_type": "code",
   "execution_count": null,
   "metadata": {},
   "outputs": [],
   "source": [
    "model_name = \"avichr_Legal-heBERT_customTruncatingEmbedder_ctfidfTrue_vectorTrue_minsize20\"\n",
    "topic_model = BERTopic.load(f\"Results/{model_name}/\")\n",
    "print(len(topic_model.get_topic_info()))\n",
    "topic_model.get_topic_info().head(20)"
   ]
  },
  {
   "cell_type": "code",
   "execution_count": null,
   "metadata": {},
   "outputs": [],
   "source": [
    "# topics_dict = topic_model.get_topics()\n",
    "# df_topic = pd.DataFrame(columns=['Topic', 'Words'])\n",
    "\n",
    "# # Iterate through the dictionary and concatenate the values\n",
    "# for key, value in topics_dict.items():\n",
    "#     topic = key\n",
    "#     words_probs = [f\"{round(prob, 4)}*{word}\" for word, prob in value]\n",
    "#     concatenated = '+'.join(words_probs)\n",
    "#     df_topic = df_topic.append({'Topic': topic, 'Words': concatenated}, ignore_index=True)\n",
    "\n",
    "# df_topic.to_excel(\"BERTopicTopicsProbs.xlsx\")"
   ]
  },
  {
   "cell_type": "markdown",
   "metadata": {},
   "source": [
    "## Analyze Model"
   ]
  },
  {
   "cell_type": "code",
   "execution_count": null,
   "metadata": {
    "scrolled": false
   },
   "outputs": [],
   "source": [
    "fig = topic_model.visualize_topics()\n",
    "fig.write_image('Plots/BERTopicIDM.png')\n",
    "fig.show()"
   ]
  },
  {
   "cell_type": "code",
   "execution_count": null,
   "metadata": {},
   "outputs": [],
   "source": [
    "topic_model.visualize_documents(data)"
   ]
  },
  {
   "cell_type": "code",
   "execution_count": null,
   "metadata": {},
   "outputs": [],
   "source": [
    "fig = topic_model.visualize_barchart(n_words=9, top_n_topics=12)\n",
    "fig.write_image('Plots/BERTopicBarchart.png')\n",
    "fig.show()"
   ]
  },
  {
   "cell_type": "code",
   "execution_count": null,
   "metadata": {},
   "outputs": [],
   "source": [
    "topic_model.visualize_barchart(n_words=9, top_n_topics=12)"
   ]
  },
  {
   "cell_type": "code",
   "execution_count": null,
   "metadata": {},
   "outputs": [],
   "source": [
    "topic_model.visualize_term_rank(log_scale=True)"
   ]
  },
  {
   "cell_type": "code",
   "execution_count": null,
   "metadata": {},
   "outputs": [],
   "source": [
    "topics_over_time = topic_model.topics_over_time(data, df['max_year'].values.tolist())"
   ]
  },
  {
   "cell_type": "code",
   "execution_count": null,
   "metadata": {},
   "outputs": [],
   "source": [
    "topics_over_time[topics_over_time['Topic'] == 3]"
   ]
  },
  {
   "cell_type": "code",
   "execution_count": null,
   "metadata": {},
   "outputs": [],
   "source": [
    "fig = topic_model.visualize_topics_over_time(topics_over_time)\n",
    "fig.write_image('Plots/BERTopicDTM.png')\n",
    "fig.show()"
   ]
  },
  {
   "cell_type": "code",
   "execution_count": null,
   "metadata": {},
   "outputs": [],
   "source": [
    "hierarchical_topics = topic_model.hierarchical_topics(data)"
   ]
  },
  {
   "cell_type": "code",
   "execution_count": null,
   "metadata": {},
   "outputs": [],
   "source": [
    "tree = topic_model.get_topic_tree(hierarchical_topics)\n",
    "print(tree)"
   ]
  },
  {
   "cell_type": "code",
   "execution_count": null,
   "metadata": {},
   "outputs": [],
   "source": [
    "fig = topic_model.visualize_hierarchy(hierarchical_topics=hierarchical_topics)\n",
    "fig.write_image('Plots/BERTopicHC.png')\n",
    "fig.show()"
   ]
  }
 ],
 "metadata": {
  "kernelspec": {
   "display_name": "python-env",
   "language": "python",
   "name": "python-env"
  },
  "language_info": {
   "codemirror_mode": {
    "name": "ipython",
    "version": 3
   },
   "file_extension": ".py",
   "mimetype": "text/x-python",
   "name": "python",
   "nbconvert_exporter": "python",
   "pygments_lexer": "ipython3",
   "version": "3.7.3"
  }
 },
 "nbformat": 4,
 "nbformat_minor": 2
}
